{
 "cells": [
  {
   "cell_type": "code",
   "execution_count": 1,
   "id": "cfbdc76d",
   "metadata": {},
   "outputs": [],
   "source": [
    "# Initial imports.\n",
    "import numpy as np\n",
    "import pandas as pd\n",
    "from sklearn.linear_model import LogisticRegression\n",
    "from sklearn.preprocessing import StandardScaler\n",
    "from sklearn.model_selection import train_test_split\n",
    "from sklearn.metrics import confusion_matrix, accuracy_score, classification_report\n",
    "from collections import Counter"
   ]
  },
  {
   "cell_type": "code",
   "execution_count": 2,
   "id": "968442b6",
   "metadata": {},
   "outputs": [
    {
     "data": {
      "text/plain": [
       "patientid          4119\n",
       "male               4119\n",
       "age                4119\n",
       "education          4016\n",
       "currentsmoker      4119\n",
       "cigsperday         4090\n",
       "bpmeds             4119\n",
       "prevalentstroke    4119\n",
       "prevalenthyp       4119\n",
       "diabetes           4119\n",
       "totchol            4119\n",
       "sysbp              4119\n",
       "diabp              4119\n",
       "bmi                4119\n",
       "heartrate          4119\n",
       "glucose            3776\n",
       "tenyearchd         4119\n",
       "dtype: int64"
      ]
     },
     "execution_count": 2,
     "metadata": {},
     "output_type": "execute_result"
    }
   ],
   "source": [
    "#  Import and read CSV file\n",
    "heart_df = pd.read_csv(\"../Data/framinghamid.csv\")\n",
    "heart_df.count()"
   ]
  },
  {
   "cell_type": "code",
   "execution_count": 3,
   "id": "8a9567da",
   "metadata": {},
   "outputs": [
    {
     "data": {
      "text/plain": [
       "male               4090\n",
       "age                4090\n",
       "currentsmoker      4090\n",
       "cigsperday         4090\n",
       "bpmeds             4090\n",
       "prevalentstroke    4090\n",
       "prevalenthyp       4090\n",
       "diabetes           4090\n",
       "totchol            4090\n",
       "sysbp              4090\n",
       "diabp              4090\n",
       "bmi                4090\n",
       "heartrate          4090\n",
       "tenyearchd         4090\n",
       "dtype: int64"
      ]
     },
     "execution_count": 3,
     "metadata": {},
     "output_type": "execute_result"
    }
   ],
   "source": [
    "#  Clean imorted file for machine learning\n",
    "heart_df = heart_df.drop(columns=[\"education\", \"glucose\", \"patientid\"])\n",
    "heart_df = heart_df.dropna()\n",
    "heart_df.count()"
   ]
  },
  {
   "cell_type": "code",
   "execution_count": 4,
   "id": "9b739a17",
   "metadata": {},
   "outputs": [],
   "source": [
    "#Seperating target(y) from features (x)\n",
    "y = heart_df.tenyearchd\n",
    "X = heart_df.drop(columns=[\"tenyearchd\"], axis=1)"
   ]
  },
  {
   "cell_type": "code",
   "execution_count": 5,
   "id": "e3510648",
   "metadata": {},
   "outputs": [
    {
     "data": {
      "text/plain": [
       "Counter({1: 465, 0: 2602})"
      ]
     },
     "execution_count": 5,
     "metadata": {},
     "output_type": "execute_result"
    }
   ],
   "source": [
    "#split into test and training set\n",
    "X_train, X_test, y_train, y_test = train_test_split(X,\n",
    "   y, random_state=1)\n",
    "\n",
    "Counter(y_train)"
   ]
  },
  {
   "cell_type": "code",
   "execution_count": 6,
   "id": "e56449cb",
   "metadata": {},
   "outputs": [],
   "source": [
    "# Creating a StandardScaler instance.\n",
    "scaler = StandardScaler()\n",
    "# Fitting the Standard Scaler with the training data.\n",
    "X_scaler = scaler.fit(X_train)\n",
    "\n",
    "# Scaling the data.\n",
    "X_train_scaled = X_scaler.transform(X_train)\n",
    "X_test_scaled = X_scaler.transform(X_test)"
   ]
  },
  {
   "cell_type": "code",
   "execution_count": 7,
   "id": "f361acfa",
   "metadata": {},
   "outputs": [
    {
     "data": {
      "text/plain": [
       "LogisticRegression(random_state=1)"
      ]
     },
     "execution_count": 7,
     "metadata": {},
     "output_type": "execute_result"
    }
   ],
   "source": [
    "#creating logisrical regression\n",
    "classifier = LogisticRegression(solver='lbfgs', random_state=1)\n",
    "classifier.fit(X_train_scaled, y_train)\n",
    "classifier"
   ]
  },
  {
   "cell_type": "code",
   "execution_count": 8,
   "id": "53f642b2",
   "metadata": {},
   "outputs": [
    {
     "data": {
      "text/html": [
       "<div>\n",
       "<style scoped>\n",
       "    .dataframe tbody tr th:only-of-type {\n",
       "        vertical-align: middle;\n",
       "    }\n",
       "\n",
       "    .dataframe tbody tr th {\n",
       "        vertical-align: top;\n",
       "    }\n",
       "\n",
       "    .dataframe thead th {\n",
       "        text-align: right;\n",
       "    }\n",
       "</style>\n",
       "<table border=\"1\" class=\"dataframe\">\n",
       "  <thead>\n",
       "    <tr style=\"text-align: right;\">\n",
       "      <th></th>\n",
       "      <th>Predicted 0</th>\n",
       "      <th>Predicted 1</th>\n",
       "    </tr>\n",
       "  </thead>\n",
       "  <tbody>\n",
       "    <tr>\n",
       "      <th>Actual 0</th>\n",
       "      <td>869</td>\n",
       "      <td>8</td>\n",
       "    </tr>\n",
       "    <tr>\n",
       "      <th>Actual 1</th>\n",
       "      <td>134</td>\n",
       "      <td>12</td>\n",
       "    </tr>\n",
       "  </tbody>\n",
       "</table>\n",
       "</div>"
      ],
      "text/plain": [
       "          Predicted 0  Predicted 1\n",
       "Actual 0          869            8\n",
       "Actual 1          134           12"
      ]
     },
     "metadata": {},
     "output_type": "display_data"
    }
   ],
   "source": [
    "#Create confusion Matrix\n",
    "predictions = classifier.predict(X_test_scaled)\n",
    "cm = confusion_matrix(y_test, predictions)\n",
    "cm_df = pd.DataFrame(\n",
    "   cm, index=[\"Actual 0\", \"Actual 1\"],\n",
    "   columns=[\"Predicted 0\", \"Predicted 1\"]\n",
    ")\n",
    "display(cm_df)"
   ]
  },
  {
   "cell_type": "code",
   "execution_count": 9,
   "id": "9b107f9a",
   "metadata": {
    "scrolled": true
   },
   "outputs": [
    {
     "name": "stdout",
     "output_type": "stream",
     "text": [
      "Classification Report\n",
      "              precision    recall  f1-score   support\n",
      "\n",
      "           0       0.87      0.99      0.92       877\n",
      "           1       0.60      0.08      0.14       146\n",
      "\n",
      "    accuracy                           0.86      1023\n",
      "   macro avg       0.73      0.54      0.53      1023\n",
      "weighted avg       0.83      0.86      0.81      1023\n",
      "\n"
     ]
    }
   ],
   "source": [
    "# print Classification report\n",
    "print(\"Classification Report\")\n",
    "print(classification_report(y_test, predictions))"
   ]
  }
 ],
 "metadata": {
  "kernelspec": {
   "display_name": "mlenv",
   "language": "python",
   "name": "mlenv"
  },
  "language_info": {
   "codemirror_mode": {
    "name": "ipython",
    "version": 3
   },
   "file_extension": ".py",
   "mimetype": "text/x-python",
   "name": "python",
   "nbconvert_exporter": "python",
   "pygments_lexer": "ipython3",
   "version": "3.9.13"
  }
 },
 "nbformat": 4,
 "nbformat_minor": 5
}
