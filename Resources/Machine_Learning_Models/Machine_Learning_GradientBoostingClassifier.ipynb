{
 "cells": [
  {
   "cell_type": "code",
   "execution_count": 1,
   "id": "cfbdc76d",
   "metadata": {},
   "outputs": [],
   "source": [
    "# Initial imports.\n",
    "import pandas as pd\n",
    "from sklearn.ensemble import RandomForestClassifier\n",
    "from sklearn.ensemble import GradientBoostingClassifier\n",
    "from sklearn.preprocessing import StandardScaler\n",
    "from sklearn.model_selection import train_test_split\n",
    "from sklearn.metrics import confusion_matrix, accuracy_score, classification_report\n",
    "from collections import Counter"
   ]
  },
  {
   "cell_type": "code",
   "execution_count": 2,
   "id": "968442b6",
   "metadata": {},
   "outputs": [
    {
     "data": {
      "text/plain": [
       "patientid          4119\n",
       "male               4119\n",
       "age                4119\n",
       "education          4016\n",
       "currentsmoker      4119\n",
       "cigsperday         4090\n",
       "bpmeds             4119\n",
       "prevalentstroke    4119\n",
       "prevalenthyp       4119\n",
       "diabetes           4119\n",
       "totchol            4119\n",
       "sysbp              4119\n",
       "diabp              4119\n",
       "bmi                4119\n",
       "heartrate          4119\n",
       "glucose            3776\n",
       "tenyearchd         4119\n",
       "dtype: int64"
      ]
     },
     "execution_count": 2,
     "metadata": {},
     "output_type": "execute_result"
    }
   ],
   "source": [
    "#  Import and read CSV file\n",
    "heart_df = pd.read_csv(\"../Data/framinghamid.csv\")\n",
    "heart_df.count()"
   ]
  },
  {
   "cell_type": "code",
   "execution_count": 3,
   "id": "8a9567da",
   "metadata": {},
   "outputs": [
    {
     "data": {
      "text/plain": [
       "male               4090\n",
       "age                4090\n",
       "currentsmoker      4090\n",
       "cigsperday         4090\n",
       "bpmeds             4090\n",
       "prevalentstroke    4090\n",
       "prevalenthyp       4090\n",
       "diabetes           4090\n",
       "totchol            4090\n",
       "sysbp              4090\n",
       "diabp              4090\n",
       "bmi                4090\n",
       "heartrate          4090\n",
       "tenyearchd         4090\n",
       "dtype: int64"
      ]
     },
     "execution_count": 3,
     "metadata": {},
     "output_type": "execute_result"
    }
   ],
   "source": [
    "#  Clean imorted file for machine learning\n",
    "heart_df = heart_df.drop(columns=[\"education\", \"glucose\", \"patientid\"])\n",
    "heart_df = heart_df.dropna()\n",
    "heart_df.count()"
   ]
  },
  {
   "cell_type": "code",
   "execution_count": 4,
   "id": "9b739a17",
   "metadata": {},
   "outputs": [],
   "source": [
    "#Seperating target(y) from features (x)\n",
    "y = heart_df.tenyearchd\n",
    "X = heart_df.drop(columns=[\"tenyearchd\"], axis=1)"
   ]
  },
  {
   "cell_type": "code",
   "execution_count": 5,
   "id": "e3510648",
   "metadata": {},
   "outputs": [
    {
     "data": {
      "text/plain": [
       "Counter({1: 465, 0: 2602})"
      ]
     },
     "execution_count": 5,
     "metadata": {},
     "output_type": "execute_result"
    }
   ],
   "source": [
    "# split the train and test data, and count how much of the predicted values we have.\n",
    "X_train, X_test, y_train, y_test = train_test_split(X,\n",
    "   y, random_state=1)\n",
    "\n",
    "Counter(y_train)"
   ]
  },
  {
   "cell_type": "code",
   "execution_count": 6,
   "id": "e56449cb",
   "metadata": {},
   "outputs": [],
   "source": [
    "# Creating a StandardScaler instance.\n",
    "scaler = StandardScaler()\n",
    "# Fitting the Standard Scaler with the training data.\n",
    "X_scaler = scaler.fit(X_train)\n",
    "\n",
    "# Scaling the data.\n",
    "X_train_scaled = X_scaler.transform(X_train)\n",
    "X_test_scaled = X_scaler.transform(X_test)"
   ]
  },
  {
   "cell_type": "code",
   "execution_count": 7,
   "id": "9a707abc",
   "metadata": {},
   "outputs": [
    {
     "name": "stdout",
     "output_type": "stream",
     "text": [
      "Learning rate:  0.05\n",
      "Accuracy score (training): 0.849\n",
      "Accuracy score (validation): 0.856\n",
      "Learning rate:  0.1\n",
      "Accuracy score (training): 0.854\n",
      "Accuracy score (validation): 0.859\n",
      "Learning rate:  0.25\n",
      "Accuracy score (training): 0.868\n",
      "Accuracy score (validation): 0.848\n",
      "Learning rate:  0.5\n",
      "Accuracy score (training): 0.877\n",
      "Accuracy score (validation): 0.844\n",
      "Learning rate:  0.75\n",
      "Accuracy score (training): 0.881\n",
      "Accuracy score (validation): 0.837\n",
      "Learning rate:  1\n",
      "Accuracy score (training): 0.882\n",
      "Accuracy score (validation): 0.836\n"
     ]
    }
   ],
   "source": [
    "# Check learning rates for which one is the most efficient for our purposes\n",
    "learning_rates = [0.05, 0.1, 0.25, 0.5, 0.75, 1]\n",
    "for learning_rate in learning_rates:\n",
    "   classifier = GradientBoostingClassifier(n_estimators=20,\n",
    "   learning_rate=learning_rate,\n",
    "   max_features=5,\n",
    "   max_depth=3,\n",
    "   random_state=0)\n",
    "   classifier.fit(X_train_scaled, y_train)\n",
    "   print(\"Learning rate: \", learning_rate)\n",
    "   print(\"Accuracy score (training): {0:.3f}\".format(\n",
    "       classifier.score(\n",
    "           X_train_scaled,\n",
    "           y_train)))\n",
    "   print(\"Accuracy score (validation): {0:.3f}\".format(\n",
    "       classifier.score(\n",
    "           X_test_scaled,\n",
    "           y_test)))"
   ]
  },
  {
   "cell_type": "code",
   "execution_count": 17,
   "id": "67ae743c",
   "metadata": {},
   "outputs": [],
   "source": [
    "# Set the learning rate that was best for our purpose and predict.\n",
    "classifier = GradientBoostingClassifier(n_estimators=20,\n",
    "   learning_rate=0.1, max_features=5, max_depth=3, random_state=0)\n",
    "\n",
    "classifier.fit(X_train_scaled, y_train)\n",
    "predictions = classifier.predict(X_test_scaled)"
   ]
  },
  {
   "cell_type": "code",
   "execution_count": 18,
   "id": "b9287d15",
   "metadata": {},
   "outputs": [
    {
     "name": "stdout",
     "output_type": "stream",
     "text": [
      "Accuracy Score : 0.8592375366568915\n"
     ]
    }
   ],
   "source": [
    "# get our accuracy score\n",
    "acc_score = accuracy_score(y_test, predictions)\n",
    "print(f\"Accuracy Score : {acc_score}\")"
   ]
  },
  {
   "cell_type": "code",
   "execution_count": 19,
   "id": "53f642b2",
   "metadata": {},
   "outputs": [
    {
     "data": {
      "text/html": [
       "<div>\n",
       "<style scoped>\n",
       "    .dataframe tbody tr th:only-of-type {\n",
       "        vertical-align: middle;\n",
       "    }\n",
       "\n",
       "    .dataframe tbody tr th {\n",
       "        vertical-align: top;\n",
       "    }\n",
       "\n",
       "    .dataframe thead th {\n",
       "        text-align: right;\n",
       "    }\n",
       "</style>\n",
       "<table border=\"1\" class=\"dataframe\">\n",
       "  <thead>\n",
       "    <tr style=\"text-align: right;\">\n",
       "      <th></th>\n",
       "      <th>Predicted 0</th>\n",
       "      <th>Predicted 1</th>\n",
       "    </tr>\n",
       "  </thead>\n",
       "  <tbody>\n",
       "    <tr>\n",
       "      <th>Actual 0</th>\n",
       "      <td>875</td>\n",
       "      <td>2</td>\n",
       "    </tr>\n",
       "    <tr>\n",
       "      <th>Actual 1</th>\n",
       "      <td>142</td>\n",
       "      <td>4</td>\n",
       "    </tr>\n",
       "  </tbody>\n",
       "</table>\n",
       "</div>"
      ],
      "text/plain": [
       "          Predicted 0  Predicted 1\n",
       "Actual 0          875            2\n",
       "Actual 1          142            4"
      ]
     },
     "metadata": {},
     "output_type": "display_data"
    }
   ],
   "source": [
    "# Get our confusion Matrix made\n",
    "cm = confusion_matrix(y_test, predictions)\n",
    "cm_df = pd.DataFrame(\n",
    "   cm, index=[\"Actual 0\", \"Actual 1\"],\n",
    "   columns=[\"Predicted 0\", \"Predicted 1\"]\n",
    ")\n",
    "display(cm_df)"
   ]
  },
  {
   "cell_type": "code",
   "execution_count": 20,
   "id": "9b107f9a",
   "metadata": {
    "scrolled": true
   },
   "outputs": [
    {
     "name": "stdout",
     "output_type": "stream",
     "text": [
      "Classification Report\n",
      "              precision    recall  f1-score   support\n",
      "\n",
      "           0       0.86      1.00      0.92       877\n",
      "           1       0.67      0.03      0.05       146\n",
      "\n",
      "    accuracy                           0.86      1023\n",
      "   macro avg       0.76      0.51      0.49      1023\n",
      "weighted avg       0.83      0.86      0.80      1023\n",
      "\n"
     ]
    }
   ],
   "source": [
    "# print the classification report\n",
    "print(\"Classification Report\")\n",
    "print(classification_report(y_test, predictions))"
   ]
  },
  {
   "cell_type": "code",
   "execution_count": 21,
   "id": "cfbf6c3c",
   "metadata": {},
   "outputs": [
    {
     "data": {
      "text/plain": [
       "[(0.31432223286244243, 'age'),\n",
       " (0.20676131242209264, 'sysbp'),\n",
       " (0.1002704434239728, 'diabp'),\n",
       " (0.08703375874049148, 'prevalenthyp'),\n",
       " (0.08211336565431708, 'cigsperday'),\n",
       " (0.07841764802822451, 'male'),\n",
       " (0.033766095131217526, 'totchol'),\n",
       " (0.03144090747051599, 'bmi'),\n",
       " (0.02916540975826362, 'heartrate'),\n",
       " (0.02107051817012969, 'diabetes'),\n",
       " (0.012034665048505406, 'bpmeds'),\n",
       " (0.0036036432898266433, 'currentsmoker'),\n",
       " (0.0, 'prevalentstroke')]"
      ]
     },
     "execution_count": 21,
     "metadata": {},
     "output_type": "execute_result"
    }
   ],
   "source": [
    "# List the features sorted in descending order by feature importance\n",
    "sorted(zip(classifier.feature_importances_, X.columns), reverse=True)"
   ]
  }
 ],
 "metadata": {
  "kernelspec": {
   "display_name": "mlenv",
   "language": "python",
   "name": "mlenv"
  },
  "language_info": {
   "codemirror_mode": {
    "name": "ipython",
    "version": 3
   },
   "file_extension": ".py",
   "mimetype": "text/x-python",
   "name": "python",
   "nbconvert_exporter": "python",
   "pygments_lexer": "ipython3",
   "version": "3.9.13"
  }
 },
 "nbformat": 4,
 "nbformat_minor": 5
}
